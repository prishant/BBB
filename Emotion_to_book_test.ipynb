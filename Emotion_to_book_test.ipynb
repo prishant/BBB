{
  "cells": [
    {
      "cell_type": "code",
      "execution_count": null,
      "id": "d51def5a",
      "metadata": {
        "id": "d51def5a"
      },
      "outputs": [],
      "source": [
        "import pickle\n",
        "import numpy as np\n",
        "import pandas as pd\n",
        "\n",
        "import tensorflow as tf\n",
        "from tensorflow.keras.models import load_model\n",
        "from tensorflow.keras.utils import to_categorical \n",
        "\n",
        "from sklearn.preprocessing import normalize\n",
        "from sklearn.model_selection import train_test_split\n",
        "from sklearn.metrics.pairwise import cosine_similarity"
      ]
    },
    {
      "cell_type": "code",
      "source": [
        "from google.colab import drive\n",
        "drive.mount('/content/drive')"
      ],
      "metadata": {
        "colab": {
          "base_uri": "https://localhost:8080/"
        },
        "id": "eLFvucju-HRj",
        "outputId": "d6e544cd-41fa-4859-a505-7a9577c29c4c"
      },
      "id": "eLFvucju-HRj",
      "execution_count": null,
      "outputs": [
        {
          "output_type": "stream",
          "name": "stdout",
          "text": [
            "Mounted at /content/drive\n"
          ]
        }
      ]
    },
    {
      "cell_type": "code",
      "execution_count": null,
      "id": "87375c57",
      "metadata": {
        "id": "87375c57"
      },
      "outputs": [],
      "source": [
        "train=pd.read_csv(\"/content/drive/MyDrive/Book by Brain/seed_2 (1).csv\")\n",
        "Y=pd.DataFrame({'label':train['label']},index=None)"
      ]
    },
    {
      "cell_type": "code",
      "execution_count": null,
      "id": "5dbfc5ec",
      "metadata": {
        "id": "5dbfc5ec"
      },
      "outputs": [],
      "source": [
        "train.drop(['Unnamed: 0','label'],axis=1,inplace=True)"
      ]
    },
    {
      "cell_type": "code",
      "execution_count": null,
      "id": "056d806a",
      "metadata": {
        "id": "056d806a"
      },
      "outputs": [],
      "source": [
        "train['combine'] = train.values.tolist()"
      ]
    },
    {
      "cell_type": "code",
      "execution_count": null,
      "id": "99e4e6da",
      "metadata": {
        "id": "99e4e6da",
        "outputId": "b1967122-987d-4853-f048-8888a574b501",
        "colab": {
          "base_uri": "https://localhost:8080/"
        }
      },
      "outputs": [
        {
          "output_type": "stream",
          "name": "stderr",
          "text": [
            "/usr/local/lib/python3.7/dist-packages/ipykernel_launcher.py:2: SettingWithCopyWarning: \n",
            "A value is trying to be set on a copy of a slice from a DataFrame\n",
            "\n",
            "See the caveats in the documentation: https://pandas.pydata.org/pandas-docs/stable/user_guide/indexing.html#returning-a-view-versus-a-copy\n",
            "  \n"
          ]
        }
      ],
      "source": [
        "for i in range(train['combine'].shape[0]):\n",
        "    train['combine'][i]=np.asarray(train['combine'][i]) ##merge the data to form an array"
      ]
    },
    {
      "cell_type": "code",
      "execution_count": null,
      "id": "bd5d1367",
      "metadata": {
        "id": "bd5d1367"
      },
      "outputs": [],
      "source": [
        "data = []\n",
        "label = []\n",
        "for i in range(0,train.shape[0]):\n",
        "    data.append(train['combine'][i])\n",
        "    label.append(Y['label'][i])"
      ]
    },
    {
      "cell_type": "code",
      "execution_count": null,
      "id": "88dfb734",
      "metadata": {
        "id": "88dfb734"
      },
      "outputs": [],
      "source": [
        "new_train=np.asarray(data)\n",
        "new_train=new_train.reshape(new_train.shape[0],new_train.shape[1],1)"
      ]
    },
    {
      "cell_type": "code",
      "execution_count": null,
      "id": "85f5c713",
      "metadata": {
        "id": "85f5c713"
      },
      "outputs": [],
      "source": [
        "label_new=np.asarray(label)"
      ]
    },
    {
      "cell_type": "code",
      "execution_count": null,
      "id": "b7836ce5",
      "metadata": {
        "id": "b7836ce5"
      },
      "outputs": [],
      "source": [
        "label_new = to_categorical(label_new)"
      ]
    },
    {
      "cell_type": "code",
      "execution_count": null,
      "id": "eeca079d",
      "metadata": {
        "id": "eeca079d"
      },
      "outputs": [],
      "source": [
        "x_train, x_test, y_train, y_test = train_test_split(new_train, label_new, test_size=0.1, random_state=42)"
      ]
    },
    {
      "cell_type": "code",
      "execution_count": null,
      "id": "b3dcbf02",
      "metadata": {
        "id": "b3dcbf02",
        "outputId": "f9620337-2d66-44eb-916f-8ceb9b386e4a",
        "colab": {
          "base_uri": "https://localhost:8080/"
        }
      },
      "outputs": [
        {
          "output_type": "stream",
          "name": "stdout",
          "text": [
            "Model: \"sequential\"\n",
            "_________________________________________________________________\n",
            " Layer (type)                Output Shape              Param #   \n",
            "=================================================================\n",
            " conv1d (Conv1D)             (None, 310, 128)          512       \n",
            "                                                                 \n",
            " batch_normalization (BatchN  (None, 310, 128)         512       \n",
            " ormalization)                                                   \n",
            "                                                                 \n",
            " max_pooling1d (MaxPooling1D  (None, 155, 128)         0         \n",
            " )                                                               \n",
            "                                                                 \n",
            " conv1d_1 (Conv1D)           (None, 155, 128)          49280     \n",
            "                                                                 \n",
            " batch_normalization_1 (Batc  (None, 155, 128)         512       \n",
            " hNormalization)                                                 \n",
            "                                                                 \n",
            " max_pooling1d_1 (MaxPooling  (None, 77, 128)          0         \n",
            " 1D)                                                             \n",
            "                                                                 \n",
            " flatten (Flatten)           (None, 9856)              0         \n",
            "                                                                 \n",
            " dense (Dense)               (None, 64)                630848    \n",
            "                                                                 \n",
            " dropout (Dropout)           (None, 64)                0         \n",
            "                                                                 \n",
            " dense_1 (Dense)             (None, 32)                2080      \n",
            "                                                                 \n",
            " dropout_1 (Dropout)         (None, 32)                0         \n",
            "                                                                 \n",
            " dense_2 (Dense)             (None, 16)                528       \n",
            "                                                                 \n",
            " dropout_2 (Dropout)         (None, 16)                0         \n",
            "                                                                 \n",
            " dense_3 (Dense)             (None, 5)                 85        \n",
            "                                                                 \n",
            "=================================================================\n",
            "Total params: 684,357\n",
            "Trainable params: 683,845\n",
            "Non-trainable params: 512\n",
            "_________________________________________________________________\n"
          ]
        }
      ],
      "source": [
        "model=load_model('/content/drive/MyDrive/Book by Brain/bbb_v1.h5')\n",
        "model.summary()"
      ]
    },
    {
      "cell_type": "code",
      "execution_count": null,
      "id": "21c4f76d",
      "metadata": {
        "id": "21c4f76d"
      },
      "outputs": [],
      "source": [
        "df=pd.read_csv('/content/drive/MyDrive/Book by Brain/Books_100k.csv')"
      ]
    },
    {
      "cell_type": "code",
      "execution_count": null,
      "id": "7cd89509",
      "metadata": {
        "id": "7cd89509"
      },
      "outputs": [],
      "source": [
        "y_pred=model.predict(x_test)"
      ]
    },
    {
      "cell_type": "code",
      "execution_count": null,
      "id": "6b03e134",
      "metadata": {
        "id": "6b03e134"
      },
      "outputs": [],
      "source": [
        "y=np.zeros((y_pred.shape[0],5))\n",
        "for i in range(y_pred.shape[0]):\n",
        "    y[i]=tf.math.sigmoid(y_pred[i])"
      ]
    },
    {
      "cell_type": "code",
      "execution_count": null,
      "id": "6198eedc",
      "metadata": {
        "id": "6198eedc"
      },
      "outputs": [],
      "source": [
        "emotion2genre_matrix=np.array(\n",
        "[[10,13,29,6,17,21,28,6,10,28,9,15,8,11,10,17,8,16,14,23,23],                                  #disgust\n",
        " [6,12,54,4,6,28,30,8,8,52,11,16,9,14,11,15,11,38,13,14,14],                                   #fear\n",
        " [8,10,35,4,11,21,23,7,8,38,10,13,8,23,20,23,9,29,12,15,21],                                   #sad\n",
        " [34,25,35,9,40,40,50,24,27,33,13,37,18,19,13,22,10,40,40,51,56],                              #neutral\n",
        " [24,16,33,5,30,38,56,19,17,34,13,44,11,12,13,17,6,45,41,52,57]]                               #happy \n",
        " )"
      ]
    },
    {
      "cell_type": "code",
      "source": [
        "y.shape"
      ],
      "metadata": {
        "colab": {
          "base_uri": "https://localhost:8080/"
        },
        "id": "yGUS0NYNAFDn",
        "outputId": "f0b26461-6d52-4e96-c3c7-3cc94c0435a6"
      },
      "id": "yGUS0NYNAFDn",
      "execution_count": null,
      "outputs": [
        {
          "output_type": "execute_result",
          "data": {
            "text/plain": [
              "(2917, 5)"
            ]
          },
          "metadata": {},
          "execution_count": 19
        }
      ]
    },
    {
      "cell_type": "code",
      "source": [
        "emotion2genre_matrix.shape"
      ],
      "metadata": {
        "colab": {
          "base_uri": "https://localhost:8080/"
        },
        "id": "ZnCTQ8wnAOvX",
        "outputId": "281e5cba-003f-4239-8e59-b2eb8af1d6dd"
      },
      "id": "ZnCTQ8wnAOvX",
      "execution_count": null,
      "outputs": [
        {
          "output_type": "execute_result",
          "data": {
            "text/plain": [
              "(5, 21)"
            ]
          },
          "metadata": {},
          "execution_count": 20
        }
      ]
    },
    {
      "cell_type": "code",
      "execution_count": null,
      "id": "23664228",
      "metadata": {
        "id": "23664228"
      },
      "outputs": [],
      "source": [
        "emotion2genre_matrix = normalize(emotion2genre_matrix, axis=1, norm='l2')"
      ]
    },
    {
      "cell_type": "code",
      "execution_count": null,
      "id": "91e1965c",
      "metadata": {
        "id": "91e1965c"
      },
      "outputs": [],
      "source": [
        "y_pred=np.matmul(y,emotion2genre_matrix)"
      ]
    },
    {
      "cell_type": "code",
      "source": [
        "y_pred.shape"
      ],
      "metadata": {
        "colab": {
          "base_uri": "https://localhost:8080/"
        },
        "id": "4ul0UUfEAgtw",
        "outputId": "6ca1445e-4c3f-48b3-8b6b-ea5dae9ce3e5"
      },
      "id": "4ul0UUfEAgtw",
      "execution_count": null,
      "outputs": [
        {
          "output_type": "execute_result",
          "data": {
            "text/plain": [
              "(2917, 21)"
            ]
          },
          "metadata": {},
          "execution_count": 23
        }
      ]
    },
    {
      "cell_type": "code",
      "execution_count": null,
      "id": "a8030fe5",
      "metadata": {
        "id": "a8030fe5"
      },
      "outputs": [],
      "source": [
        "y_pred=normalize(y_pred, axis=1, norm='l2')"
      ]
    },
    {
      "cell_type": "code",
      "execution_count": null,
      "id": "ab009562",
      "metadata": {
        "id": "ab009562"
      },
      "outputs": [],
      "source": [
        "y_1=y_pred[0]"
      ]
    },
    {
      "cell_type": "code",
      "execution_count": null,
      "id": "d919ffc2",
      "metadata": {
        "id": "d919ffc2"
      },
      "outputs": [],
      "source": [
        "ones = np.ones((1055, 21))"
      ]
    },
    {
      "cell_type": "code",
      "execution_count": null,
      "id": "eb6dd18d",
      "metadata": {
        "id": "eb6dd18d"
      },
      "outputs": [],
      "source": [
        "y_1=y_1*ones"
      ]
    },
    {
      "cell_type": "code",
      "execution_count": null,
      "id": "65ecac77",
      "metadata": {
        "id": "65ecac77"
      },
      "outputs": [],
      "source": [
        "genres=[\"Business\", \"Classics\", \"Comics\", \"Contemporary\", \"Crime\", \"Fantasy\", \n",
        "        \"Fiction\",\"History\", \"Horror\", \"Humor\", \"Manga\", \"Mystery\",\n",
        "        \"Nonfiction\",\"Philosophy\", \"Poetry\",\"Psychology\", \"Religion\",\n",
        "        \"Romance\", \"Science\", \"Suspense\",\"Thriller\"\n",
        "        ]"
      ]
    },
    {
      "cell_type": "code",
      "execution_count": null,
      "id": "22bda4f9",
      "metadata": {
        "id": "22bda4f9"
      },
      "outputs": [],
      "source": [
        "vectors = df[genres].values"
      ]
    },
    {
      "cell_type": "code",
      "execution_count": null,
      "id": "19d98106",
      "metadata": {
        "id": "19d98106"
      },
      "outputs": [],
      "source": [
        "normalized_vectors = normalize(vectors, axis=1, norm='l2')"
      ]
    },
    {
      "cell_type": "code",
      "execution_count": null,
      "id": "b61db6ed",
      "metadata": {
        "id": "b61db6ed"
      },
      "outputs": [],
      "source": [
        "similarity = cosine_similarity(y_1, normalized_vectors)"
      ]
    },
    {
      "cell_type": "code",
      "source": [
        "similarity"
      ],
      "metadata": {
        "colab": {
          "base_uri": "https://localhost:8080/"
        },
        "id": "whY3HO6cEk2b",
        "outputId": "b253a321-9529-4f25-c2c2-7bce3349fbb7"
      },
      "id": "whY3HO6cEk2b",
      "execution_count": null,
      "outputs": [
        {
          "output_type": "execute_result",
          "data": {
            "text/plain": [
              "array([[0.09819441, 0.15442688, 0.27221257, ..., 0.18208721, 0.17102905,\n",
              "        0.31338198],\n",
              "       [0.09819441, 0.15442688, 0.27221257, ..., 0.18208721, 0.17102905,\n",
              "        0.31338198],\n",
              "       [0.09819441, 0.15442688, 0.27221257, ..., 0.18208721, 0.17102905,\n",
              "        0.31338198],\n",
              "       ...,\n",
              "       [0.09819441, 0.15442688, 0.27221257, ..., 0.18208721, 0.17102905,\n",
              "        0.31338198],\n",
              "       [0.09819441, 0.15442688, 0.27221257, ..., 0.18208721, 0.17102905,\n",
              "        0.31338198],\n",
              "       [0.09819441, 0.15442688, 0.27221257, ..., 0.18208721, 0.17102905,\n",
              "        0.31338198]])"
            ]
          },
          "metadata": {},
          "execution_count": 32
        }
      ]
    },
    {
      "cell_type": "code",
      "execution_count": null,
      "id": "c974bd6b",
      "metadata": {
        "id": "c974bd6b"
      },
      "outputs": [],
      "source": [
        "df['similarity'] = similarity[0]"
      ]
    },
    {
      "cell_type": "code",
      "execution_count": null,
      "id": "f4241856",
      "metadata": {
        "id": "f4241856"
      },
      "outputs": [],
      "source": [
        "books= df.sort_values(by=['similarity', 'rating'], ascending=False) \\\n",
        "            .head(20)['title'] \\\n",
        "            .sample(frac=0.5)"
      ]
    },
    {
      "cell_type": "code",
      "execution_count": null,
      "id": "9e3fafc3",
      "metadata": {
        "id": "9e3fafc3"
      },
      "outputs": [],
      "source": [
        "book_1=books.iloc[0]\n",
        "book_2=books.iloc[1]\n",
        "book_3=books.iloc[2]\n",
        "book_4=books.iloc[3]\n",
        "book_5=books.iloc[4]"
      ]
    },
    {
      "cell_type": "code",
      "execution_count": null,
      "id": "228b7b31",
      "metadata": {
        "id": "228b7b31",
        "outputId": "e8f101f7-4542-4dee-af43-a0d8370d4ccd",
        "colab": {
          "base_uri": "https://localhost:8080/"
        }
      },
      "outputs": [
        {
          "output_type": "stream",
          "name": "stdout",
          "text": [
            "Fallen Son: The Death of Captain America\n",
            "Nightwing: Love and Bullets\n",
            "Nightwing: The Hunt for Oracle\n",
            "Kebakaran Hutan\n",
            "Captain America by Ed Brubaker Omnibus, Vol. 1\n"
          ]
        }
      ],
      "source": [
        "print(book_1)\n",
        "print(book_2)\n",
        "print(book_3)\n",
        "print(book_4)\n",
        "print(book_5)"
      ]
    }
  ],
  "metadata": {
    "kernelspec": {
      "display_name": "Python 3 (ipykernel)",
      "language": "python",
      "name": "python3"
    },
    "language_info": {
      "codemirror_mode": {
        "name": "ipython",
        "version": 3
      },
      "file_extension": ".py",
      "mimetype": "text/x-python",
      "name": "python",
      "nbconvert_exporter": "python",
      "pygments_lexer": "ipython3",
      "version": "3.9.7"
    },
    "colab": {
      "name": "Emotion_to_book-test.ipynb",
      "provenance": [],
      "collapsed_sections": []
    }
  },
  "nbformat": 4,
  "nbformat_minor": 5
}